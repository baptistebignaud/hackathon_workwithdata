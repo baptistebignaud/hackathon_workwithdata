{
 "cells": [
  {
   "cell_type": "markdown",
   "id": "7d315893-0697-4919-aa3b-c9c2b6f96a2e",
   "metadata": {},
   "source": [
    "# Import librairies"
   ]
  },
  {
   "cell_type": "code",
   "execution_count": 1,
   "id": "8ecafaa2-1111-4ba8-ac5e-42cb1eb84a3c",
   "metadata": {},
   "outputs": [],
   "source": [
    "from selenium import webdriver\n",
    "#from webdriver_manager.chrome import ChromeDriverManager\n",
    "import time\n",
    "import requests\n",
    "import pandas as pd\n",
    "from bs4 import BeautifulSoup\n",
    "from selenium.webdriver.common.keys import Keys\n",
    "\n",
    "import sys\n",
    "import matplotlib.pyplot as plt\n",
    "import pandas as pd\n",
    "import numpy as np\n",
    "import os\n",
    "import string\n",
    "sys.path.append(\"../utile\")\n",
    "from utile import config_parse\n",
    "from selenium.webdriver.common.by import By"
   ]
  },
  {
   "cell_type": "markdown",
   "id": "d347c106-c965-412b-af5e-32be7701d98e",
   "metadata": {},
   "source": [
    "# Define driver"
   ]
  },
  {
   "cell_type": "code",
   "execution_count": 2,
   "id": "1c627a7e-ecb5-4678-a014-894c1d59c9b2",
   "metadata": {},
   "outputs": [],
   "source": [
    "config = config_parse()"
   ]
  },
  {
   "cell_type": "code",
   "execution_count": 3,
   "id": "3ec4152d-8cb9-4d83-a814-dd098a74d961",
   "metadata": {},
   "outputs": [],
   "source": [
    "login = config[\"login\"]\n",
    "password = config[\"password\"]"
   ]
  },
  {
   "cell_type": "code",
   "execution_count": 4,
   "id": "14769514-3627-427f-b491-a79c6f7f5f54",
   "metadata": {},
   "outputs": [
    {
     "name": "stderr",
     "output_type": "stream",
     "text": [
      "/tmp/ipykernel_809/3686111069.py:9: DeprecationWarning: use options instead of chrome_options\n",
      "  driver = webdriver.Chrome(chrome_options=chrome_options)\n"
     ]
    }
   ],
   "source": [
    "# Connect to Linkedin\n",
    "driver = webdriver.Chrome(chrome_options=chrome_options)\n",
    "try:\n",
    "    chrome_options = webdriver.ChromeOptions()\n",
    "    chrome_options.add_argument('--no-sandbox')\n",
    "    chrome_options.add_argument('--window-size=1920,1080')\n",
    "    chrome_options.add_argument('--headless')\n",
    "    chrome_options.add_argument('--disable-gpu')\n",
    "    chrome_options.add_argument(\"--incognito\")\n",
    "except:\n",
    "    pass\n",
    "\n",
    "# Connect to instagram\n",
    "\n",
    "\n",
    "\n"
   ]
  },
  {
   "cell_type": "code",
   "execution_count": 5,
   "id": "75d3c8f3-723a-4104-a2e8-03fcc8cdae3c",
   "metadata": {},
   "outputs": [],
   "source": [
    "driver.get(\"https://www.linkedin.com\")\n",
    "driver.implicitly_wait(3)\n",
    "driver.find_element(By.XPATH,'/html/body/nav/div/a[2]').click()\n",
    "driver.find_element(By.ID,'username').send_keys(login)\n",
    "driver.find_element(By.ID,'password').send_keys(password)\n",
    "driver.implicitly_wait(1)\n",
    "driver.find_element(By.XPATH,'//*[@id=\"organic-div\"]/form/div[3]/button').click()"
   ]
  },
  {
   "cell_type": "code",
   "execution_count": 6,
   "id": "dc01c499-f713-45e8-b02f-ecfc039e888a",
   "metadata": {},
   "outputs": [],
   "source": [
    "df = pd.read_csv(\"../escp_training_set.csv\")"
   ]
  },
  {
   "cell_type": "code",
   "execution_count": 85,
   "id": "4c205002-aaa5-4240-b416-76526589c059",
   "metadata": {},
   "outputs": [
    {
     "data": {
      "text/plain": [
       "['A.S. Creation Tapeten',\n",
       " 'A & S Group (Holdings)',\n",
       " 'A.S. Roma',\n",
       " 'A-Smart',\n",
       " 'A-Sonic Aerospace',\n",
       " 'A.V.O.D. Kurutulmus Gida Ve Tarim Urunleri A.S']"
      ]
     },
     "execution_count": 85,
     "metadata": {},
     "output_type": "execute_result"
    }
   ],
   "source": [
    "df[\"company_name\"].to_list()[100:106]"
   ]
  },
  {
   "cell_type": "code",
   "execution_count": 99,
   "id": "711b0c43-8c5e-4b6c-b64f-ac7d9662550d",
   "metadata": {
    "tags": []
   },
   "outputs": [
    {
     "name": "stderr",
     "output_type": "stream",
     "text": [
      "/tmp/ipykernel_809/1215581730.py:9: DeprecationWarning: find_element_by_tag_name is deprecated. Please use find_element(by=By.TAG_NAME, value=name) instead\n",
      "  driver.find_element_by_tag_name('h3').click()\n"
     ]
    }
   ],
   "source": [
    "company = \"A.V.O.D. Kurutulmus Gida Ve Tarim Urunleri A.S\"\n",
    "query = company + \" linkedin\"\n",
    "driver.get(\"https://www.google.co.uk/search?q=\" + query)\n",
    "try:\n",
    "    driver.find_element(By.XPATH,'//*[@id=\"L2AGLb\"]/div').click()\n",
    "except:\n",
    "    pass\n",
    "soup = BeautifulSoup(driver.page_source)\n",
    "driver.find_element_by_tag_name('h3').click()\n",
    "\n",
    "#driver.get(soup.find_all('a')[20][\"href\"])"
   ]
  },
  {
   "cell_type": "code",
   "execution_count": 100,
   "id": "4f494e81-7ca3-4b08-923c-8e0012cc993b",
   "metadata": {},
   "outputs": [
    {
     "data": {
      "text/plain": [
       "'https://www.linkedin.com/company/avod-kurutulmus-gida-ve-tarim-urunleri-sanayi-ticaret-as-avod-/about/'"
      ]
     },
     "execution_count": 100,
     "metadata": {},
     "output_type": "execute_result"
    }
   ],
   "source": [
    "driver.current_url"
   ]
  },
  {
   "cell_type": "code",
   "execution_count": 104,
   "id": "3b059679-26c4-4e75-817d-aa14a0eb9e47",
   "metadata": {},
   "outputs": [
    {
     "name": "stderr",
     "output_type": "stream",
     "text": [
      "/tmp/ipykernel_809/1130834273.py:1: DeprecationWarning: find_elements_by_class_name is deprecated. Please use find_elements(by=By.CLASS_NAME, value=name) instead\n",
      "  driver.find_elements_by_class_name('org-top-card-summary-info-list__info-item')[1].text\n"
     ]
    },
    {
     "data": {
      "text/plain": [
       "'Izmir, Izmir'"
      ]
     },
     "execution_count": 104,
     "metadata": {},
     "output_type": "execute_result"
    }
   ],
   "source": [
    "driver.find_elements_by_class_name('org-top-card-summary-info-list__info-item')[1].text"
   ]
  },
  {
   "cell_type": "code",
   "execution_count": 131,
   "id": "1fd41158-3c00-4bbe-9c35-08058a96c5f0",
   "metadata": {},
   "outputs": [
    {
     "name": "stderr",
     "output_type": "stream",
     "text": [
      "/tmp/ipykernel_809/1131837443.py:1: DeprecationWarning: find_elements_by_class_name is deprecated. Please use find_elements(by=By.CLASS_NAME, value=name) instead\n",
      "  driver.find_elements_by_class_name('overflow-hidden')[0].text.replace(\"\\n\", \" \")\n"
     ]
    },
    {
     "data": {
      "text/plain": [
       "'Secteur Fabrication de produits alimentaires et boissons Taille de l’entreprise 11-50 employés 22 sur LinkedIn Inclut des membres avec AVOD Kurutulmus Gida VE Tarim Urunleri Sanayi Ticaret AS (AVOD) comme employeur actuel, y compris les postes à temps partiel. Siège social Izmir, Izmir'"
      ]
     },
     "execution_count": 131,
     "metadata": {},
     "output_type": "execute_result"
    }
   ],
   "source": [
    "driver.find_elements_by_class_name('overflow-hidden')[0].text.replace(\"\\n\", \" \")"
   ]
  },
  {
   "cell_type": "code",
   "execution_count": 113,
   "id": "89b49257-338d-4d0b-8338-d8aa4129fb82",
   "metadata": {},
   "outputs": [
    {
     "ename": "IndexError",
     "evalue": "list index out of range",
     "output_type": "error",
     "traceback": [
      "\u001b[0;31m---------------------------------------------------------------------------\u001b[0m",
      "\u001b[0;31mIndexError\u001b[0m                                Traceback (most recent call last)",
      "\u001b[0;32m/tmp/ipykernel_809/2965142837.py\u001b[0m in \u001b[0;36m<module>\u001b[0;34m\u001b[0m\n\u001b[1;32m      1\u001b[0m \u001b[0msoup\u001b[0m \u001b[0;34m=\u001b[0m \u001b[0mBeautifulSoup\u001b[0m\u001b[0;34m(\u001b[0m\u001b[0mdriver\u001b[0m\u001b[0;34m.\u001b[0m\u001b[0mpage_source\u001b[0m\u001b[0;34m,\u001b[0m\u001b[0;34m\"html.parser\"\u001b[0m\u001b[0;34m)\u001b[0m\u001b[0;34m\u001b[0m\u001b[0;34m\u001b[0m\u001b[0m\n\u001b[0;32m----> 2\u001b[0;31m \u001b[0msoup\u001b[0m\u001b[0;34m.\u001b[0m\u001b[0mfind_all\u001b[0m\u001b[0;34m(\u001b[0m\u001b[0mclass_\u001b[0m\u001b[0;34m=\u001b[0m\u001b[0;34m\"about-us__description\"\u001b[0m\u001b[0;34m)\u001b[0m\u001b[0;34m[\u001b[0m\u001b[0;36m0\u001b[0m\u001b[0;34m]\u001b[0m\u001b[0;34m.\u001b[0m\u001b[0mtext\u001b[0m\u001b[0;34m\u001b[0m\u001b[0;34m\u001b[0m\u001b[0m\n\u001b[0m",
      "\u001b[0;31mIndexError\u001b[0m: list index out of range"
     ]
    }
   ],
   "source": [
    "soup = BeautifulSoup(driver.page_source,\"html.parser\")\n",
    "soup.find_all(class_=\"about-us__description\")[0].text"
   ]
  },
  {
   "cell_type": "code",
   "execution_count": null,
   "id": "428ab5ff-db1a-4a03-ae47-2b5ee5b562b8",
   "metadata": {},
   "outputs": [],
   "source": [
    "driver.current_url"
   ]
  },
  {
   "cell_type": "code",
   "execution_count": null,
   "id": "a180a694-2433-47c0-92e7-9b87cee8a811",
   "metadata": {},
   "outputs": [],
   "source": [
    "BeautifulSoup(driver.page_source,\"html.parser\")"
   ]
  },
  {
   "cell_type": "code",
   "execution_count": null,
   "id": "166dd4ab-9a3f-4bd2-b7b1-5cd5f69b9f04",
   "metadata": {},
   "outputs": [],
   "source": []
  },
  {
   "cell_type": "code",
   "execution_count": null,
   "id": "45d82717-289f-43c4-82ac-7c3835ba85dd",
   "metadata": {},
   "outputs": [],
   "source": []
  },
  {
   "cell_type": "code",
   "execution_count": null,
   "id": "f25bd2c3-f2c3-4180-bf49-a0c9698a3425",
   "metadata": {},
   "outputs": [],
   "source": []
  },
  {
   "cell_type": "code",
   "execution_count": null,
   "id": "eea5777f-4345-45d6-a411-64e076231ac7",
   "metadata": {},
   "outputs": [],
   "source": [
    "driver.get(\"https://www.google.com\")\n",
    "# locate search form by_name\n",
    "search_query = driver.find_element_by_name('q')\n",
    "\n",
    "# send_keys() to simulate the search text key strokes\n",
    "search_query.send_keys('site:linkedin.com/in/ AND \"python developer\" AND \"London\"')\n",
    "\n",
    "# .send_keys() to simulate the return key \n",
    "search_query.send_keys(Keys.RETURN)"
   ]
  },
  {
   "cell_type": "code",
   "execution_count": null,
   "id": "7313b632-bbee-458d-be1f-9954c834793e",
   "metadata": {},
   "outputs": [],
   "source": []
  },
  {
   "cell_type": "code",
   "execution_count": null,
   "id": "5b5c12e9-1573-450c-b582-810f3028ee8e",
   "metadata": {},
   "outputs": [],
   "source": [
    "!wget https://dl.google.com/linux/direct/google-chrome-stable_current_amd64.deb"
   ]
  },
  {
   "cell_type": "code",
   "execution_count": null,
   "id": "442794a6-aa9b-4cd5-8c4d-9a40f9a9927e",
   "metadata": {
    "tags": []
   },
   "outputs": [],
   "source": [
    "!apt install ./google-chrome-stable_current_amd64.deb -y"
   ]
  },
  {
   "cell_type": "code",
   "execution_count": null,
   "id": "b5dc9549-0e72-4fa3-9127-129064ee181c",
   "metadata": {
    "tags": []
   },
   "outputs": [],
   "source": [
    "!apt-get install -y chromium-browser"
   ]
  },
  {
   "cell_type": "code",
   "execution_count": null,
   "id": "f98a6f68-dbdb-4147-91e5-725f4eca1f8e",
   "metadata": {
    "tags": []
   },
   "outputs": [],
   "source": [
    "!apt-get install libnss3 -y"
   ]
  },
  {
   "cell_type": "code",
   "execution_count": null,
   "id": "3637b835-5a05-4110-8a37-f689e1a6c378",
   "metadata": {},
   "outputs": [],
   "source": [
    "!apt-get install -y libglib2.0-0=2.50.3-2 \\\n",
    "    libnss3=2:3.26.2-1.1+deb9u1 \\\n",
    "    libgconf-2-4=3.2.6-4+b1 \\\n",
    "    libfontconfig1=2.11.0-6.7+b1"
   ]
  },
  {
   "cell_type": "code",
   "execution_count": null,
   "id": "4232fe26-465c-49f7-950c-b89b0618c6b5",
   "metadata": {},
   "outputs": [],
   "source": []
  },
  {
   "cell_type": "code",
   "execution_count": null,
   "id": "40f85379-75f8-42ed-8633-d59084ec1c10",
   "metadata": {},
   "outputs": [],
   "source": []
  }
 ],
 "metadata": {
  "kernelspec": {
   "display_name": "Python 3 (ipykernel)",
   "language": "python",
   "name": "python3"
  },
  "language_info": {
   "codemirror_mode": {
    "name": "ipython",
    "version": 3
   },
   "file_extension": ".py",
   "mimetype": "text/x-python",
   "name": "python",
   "nbconvert_exporter": "python",
   "pygments_lexer": "ipython3",
   "version": "3.8.10"
  }
 },
 "nbformat": 4,
 "nbformat_minor": 5
}
