{
 "cells": [
  {
   "cell_type": "markdown",
   "id": "7d315893-0697-4919-aa3b-c9c2b6f96a2e",
   "metadata": {},
   "source": [
    "# Import librairies"
   ]
  },
  {
   "cell_type": "code",
   "execution_count": 1,
   "id": "8ecafaa2-1111-4ba8-ac5e-42cb1eb84a3c",
   "metadata": {},
   "outputs": [],
   "source": [
    "from selenium import webdriver\n",
    "#from webdriver_manager.chrome import ChromeDriverManager\n",
    "import time\n",
    "import requests\n",
    "import pandas as pd\n",
    "from bs4 import BeautifulSoup\n",
    "from selenium.webdriver.common.keys import Keys\n",
    "\n",
    "import sys\n",
    "import matplotlib.pyplot as plt\n",
    "import pandas as pd\n",
    "import numpy as np\n",
    "import os\n",
    "import string\n",
    "sys.path.append(\"../utile\")\n",
    "from utile import config_parse\n",
    "from selenium.webdriver.common.by import By"
   ]
  },
  {
   "cell_type": "markdown",
   "id": "d347c106-c965-412b-af5e-32be7701d98e",
   "metadata": {},
   "source": [
    "# Define driver"
   ]
  },
  {
   "cell_type": "code",
   "execution_count": 2,
   "id": "1c627a7e-ecb5-4678-a014-894c1d59c9b2",
   "metadata": {},
   "outputs": [],
   "source": [
    "config = config_parse()"
   ]
  },
  {
   "cell_type": "code",
   "execution_count": 3,
   "id": "3ec4152d-8cb9-4d83-a814-dd098a74d961",
   "metadata": {},
   "outputs": [],
   "source": [
    "login_linkedin = config[\"login_linkedin\"]\n",
    "password_linkedin = config[\"password_linkedin\"]\n",
    "\n",
    "login_insta = config[\"login_insta\"]\n",
    "password_insta = config[\"password_insta\"]"
   ]
  },
  {
   "cell_type": "code",
   "execution_count": 4,
   "id": "14769514-3627-427f-b491-a79c6f7f5f54",
   "metadata": {},
   "outputs": [
    {
     "name": "stderr",
     "output_type": "stream",
     "text": [
      "/tmp/ipykernel_2333/3486248830.py:7: DeprecationWarning: use options instead of chrome_options\n",
      "  driver = webdriver.Chrome(chrome_options=chrome_options)\n"
     ]
    }
   ],
   "source": [
    "chrome_options = webdriver.ChromeOptions()\n",
    "chrome_options.add_argument('--no-sandbox')\n",
    "chrome_options.add_argument('--window-size=1920,1080')\n",
    "chrome_options.add_argument('--headless')\n",
    "chrome_options.add_argument('--disable-gpu')\n",
    "chrome_options.add_argument(\"--incognito\")\n",
    "driver = webdriver.Chrome(chrome_options=chrome_options)\n"
   ]
  },
  {
   "cell_type": "code",
   "execution_count": 5,
   "id": "75d3c8f3-723a-4104-a2e8-03fcc8cdae3c",
   "metadata": {},
   "outputs": [],
   "source": [
    "# Connect to Linkedin\n",
    "try:\n",
    "    driver.get(\"https://www.linkedin.com\")\n",
    "    driver.implicitly_wait(3)\n",
    "    driver.find_element(By.XPATH,'/html/body/nav/div/a[2]').click()\n",
    "    driver.find_element(By.ID,'username').send_keys(login_linkedin)\n",
    "    driver.find_element(By.ID,'password').send_keys(password_linkedin)\n",
    "    driver.implicitly_wait(1)\n",
    "    driver.find_element(By.XPATH,'//*[@id=\"organic-div\"]/form/div[3]/button').click()\n",
    "except:\n",
    "    print(\"Failed to connect\")\n",
    "    pass\n",
    "\n"
   ]
  },
  {
   "cell_type": "code",
   "execution_count": 6,
   "id": "a6154775-ca04-442a-928d-540f9305efda",
   "metadata": {},
   "outputs": [],
   "source": [
    "# Connect to instagram\n",
    "try:\n",
    "    driver.get(\"https://www.instagram.com\")\n",
    "    driver.implicitly_wait(3)\n",
    "    try:\n",
    "        driver.find_element(By.XPATH,'/html/body/div[4]/div/div/button[2]').click()\n",
    "    except:\n",
    "        print(\"No need to accept cookies\")\n",
    "        pass\n",
    "    driver.find_element(By.NAME,'username').send_keys(login_linkedin)\n",
    "    driver.find_element(By.NAME,'password').send_keys(password_insta)\n",
    "    driver.implicitly_wait(1)\n",
    "    driver.find_element(By.XPATH,'//*[@id=\"loginForm\"]/div/div[3]/button').click()\n",
    "\n",
    "except:\n",
    "    print(\"Failed to connect\")\n",
    "    pass\n"
   ]
  },
  {
   "cell_type": "code",
   "execution_count": 7,
   "id": "dc01c499-f713-45e8-b02f-ecfc039e888a",
   "metadata": {},
   "outputs": [],
   "source": [
    "df = pd.read_csv(\"../data/escp_training_set.csv\")"
   ]
  },
  {
   "cell_type": "code",
   "execution_count": 54,
   "id": "711b0c43-8c5e-4b6c-b64f-ac7d9662550d",
   "metadata": {
    "collapsed": true,
    "jupyter": {
     "outputs_hidden": true
    },
    "tags": []
   },
   "outputs": [
    {
     "name": "stdout",
     "output_type": "stream",
     "text": [
      "0\n",
      "10\n",
      "20\n",
      "30\n",
      "40\n",
      "50\n",
      "60\n",
      "70\n",
      "80\n",
      "90\n",
      "100\n",
      "110\n",
      "120\n",
      "130\n",
      "140\n",
      "150\n",
      "160\n",
      "170\n",
      "180\n",
      "190\n"
     ]
    }
   ],
   "source": [
    "# Get all followers of linkedin for n companies (to improve)\n",
    "follow_linkedin = []\n",
    "publications_insta = []\n",
    "for i,company in enumerate (df[\"company_name\"].to_list()[:200]):\n",
    "    #if i%10==0:\n",
    "    #    print(i)\n",
    "    query = company + \" linkedin\"\n",
    "    driver.get(\"https://www.google.co.uk/search?q=\" + query)\n",
    "    try:\n",
    "        driver.find_element(By.XPATH,'//*[@id=\"L2AGLb\"]/div').click()\n",
    "    except:\n",
    "        pass\n",
    "    soup = BeautifulSoup(driver.page_source)\n",
    "    try:\n",
    "        driver.find_element(by=By.TAG_NAME, value='h3').click()\n",
    "        try:\n",
    "            nb_followers_linkedin = int(''.join(driver.find_elements(by=By.CLASS_NAME, value='org-top-card-summary-info-list__info-item')[-1].text.replace(\" abonnés\",\"\").split()))\n",
    "            follow_linkedin.append(nb_followers_linkedin)\n",
    "        except:\n",
    "            try:\n",
    "                driver.find_element(by=By.TAG_NAME, value='h3').click()\n",
    "                nb_followers_linkedin = int(''.join(driver.find_elements(by=By.CLASS_NAME, value='org-top-card-summary-info-list__info-item')[-1].text.replace(\" abonnés\",\"\").split()))\n",
    "                follow_linkedin.append(nb_followers_linkedin)\n",
    "            except:\n",
    "                follow_linkedin.append(0)\n",
    "    except:\n",
    "        follow_linkedin.append(0)\n",
    "        \n"
   ]
  },
  {
   "cell_type": "code",
   "execution_count": 57,
   "id": "0efdba4e-6c09-45a6-983b-d8894561a2d2",
   "metadata": {},
   "outputs": [],
   "source": [
    "followers = pd.DataFrame(follow_linkedin, columns=[\"Followers\"])"
   ]
  },
  {
   "cell_type": "code",
   "execution_count": 58,
   "id": "89285c70-40b2-491a-b1f3-babf4391073d",
   "metadata": {},
   "outputs": [
    {
     "data": {
      "text/plain": [
       "Followers\n",
       "0            44\n",
       "1092          2\n",
       "8828          1\n",
       "6238          1\n",
       "6630          1\n",
       "             ..\n",
       "981           1\n",
       "986           1\n",
       "1037          1\n",
       "1050          1\n",
       "2794803       1\n",
       "Length: 156, dtype: int64"
      ]
     },
     "execution_count": 58,
     "metadata": {},
     "output_type": "execute_result"
    }
   ],
   "source": [
    "followers.value_counts()"
   ]
  },
  {
   "cell_type": "code",
   "execution_count": 59,
   "id": "4ea4a4d9-0c0f-49c4-9024-9c998cd800b4",
   "metadata": {},
   "outputs": [],
   "source": [
    "followers.to_csv(\"followers.csv\")"
   ]
  },
  {
   "cell_type": "code",
   "execution_count": 57,
   "id": "5c8f8df0-bab2-4a14-a2dc-8328b033b02e",
   "metadata": {},
   "outputs": [
    {
     "name": "stdout",
     "output_type": "stream",
     "text": [
      "10 634 abonnés\n",
      "\n"
     ]
    },
    {
     "name": "stderr",
     "output_type": "stream",
     "text": [
      "/tmp/ipykernel_808/1248601977.py:2: DeprecationWarning: find_elements_by_class_name is deprecated. Please use find_elements(by=By.CLASS_NAME, value=name) instead\n",
      "  print(driver.find_elements_by_class_name('org-top-card-summary-info-list__info-item')[2].text)\n",
      "/tmp/ipykernel_808/1248601977.py:4: DeprecationWarning: find_elements_by_class_name is deprecated. Please use find_elements(by=By.CLASS_NAME, value=name) instead\n",
      "  print(driver.find_elements_by_class_name('overflow-hidden')[0].text.replace(\"\\n\", \" \"))\n"
     ]
    }
   ],
   "source": [
    "#Information\n",
    "print(driver.find_elements_by_class_name('org-top-card-summary-info-list__info-item')[2].text)\n",
    "#Summary\n",
    "print(driver.find_elements_by_class_name('overflow-hidden')[0].text.replace(\"\\n\", \" \"))"
   ]
  },
  {
   "cell_type": "markdown",
   "id": "56b0dd5c-b2de-41ab-b01b-f8d77c855b45",
   "metadata": {},
   "source": [
    "# Test"
   ]
  },
  {
   "cell_type": "code",
   "execution_count": 64,
   "id": "0e0a56e5-fba4-4862-8b0c-db4aaa45b4fc",
   "metadata": {},
   "outputs": [
    {
     "name": "stderr",
     "output_type": "stream",
     "text": [
      "/tmp/ipykernel_808/1829854153.py:9: DeprecationWarning: find_element_by_tag_name is deprecated. Please use find_element(by=By.TAG_NAME, value=name) instead\n",
      "  driver.find_element_by_tag_name('h3').click()\n"
     ]
    }
   ],
   "source": [
    "# Get info for instagram\n",
    "company = \"Amano\"\n",
    "query = company + \" instagram\"\n",
    "driver.get(\"https://www.google.co.uk/search?q=\" + query)\n",
    "try:\n",
    "    driver.find_element(By.XPATH,'//*[@id=\"L2AGLb\"]/div').click()\n",
    "except:\n",
    "    pass\n",
    "soup = BeautifulSoup(driver.page_source)\n",
    "driver.find_element_by_tag_name('h3').click()\n",
    "\n",
    "#driver.get(soup.find_all('a')[20][\"href\"])"
   ]
  },
  {
   "cell_type": "code",
   "execution_count": 71,
   "id": "3303339c-c0a8-472d-9f6b-29cad1e193b5",
   "metadata": {},
   "outputs": [
    {
     "name": "stderr",
     "output_type": "stream",
     "text": [
      "/tmp/ipykernel_808/3283888356.py:1: DeprecationWarning: find_elements_by_class_name is deprecated. Please use find_elements(by=By.CLASS_NAME, value=name) instead\n",
      "  driver.find_elements_by_class_name('wW3k-')[0].text.replace(\"\\n\", \" \").split(\" publications\")[0].split(\" \")[-1]\n"
     ]
    },
    {
     "data": {
      "text/plain": [
       "'437'"
      ]
     },
     "execution_count": 71,
     "metadata": {},
     "output_type": "execute_result"
    }
   ],
   "source": [
    "# See number of publications\n",
    "driver.find_elements_by_class_name('wW3k-')[0].text.replace(\"\\n\", \" \").split(\" publications\")[0].split(\" \")[-1]"
   ]
  },
  {
   "cell_type": "code",
   "execution_count": 69,
   "id": "dbf0f7e9-c5d5-4943-b481-07278b8f5594",
   "metadata": {},
   "outputs": [
    {
     "name": "stderr",
     "output_type": "stream",
     "text": [
      "/tmp/ipykernel_808/3066775476.py:1: DeprecationWarning: find_elements_by_class_name is deprecated. Please use find_elements(by=By.CLASS_NAME, value=name) instead\n",
      "  driver.find_elements_by_class_name('wW3k-')[0].text.replace(\"\\n\", \" \").split(\" abonnés\")[0].split(\" \")[-1]\n"
     ]
    },
    {
     "data": {
      "text/plain": [
       "'19,6K'"
      ]
     },
     "execution_count": 69,
     "metadata": {},
     "output_type": "execute_result"
    }
   ],
   "source": [
    "# See number of followers\n",
    "driver.find_elements_by_class_name('wW3k-')[0].text.replace(\"\\n\", \" \").split(\" abonnés\")[0].split(\" \")[-1]"
   ]
  },
  {
   "cell_type": "code",
   "execution_count": 21,
   "id": "93b5b86f-42ca-43ba-8a41-9bd40ad37bed",
   "metadata": {},
   "outputs": [
    {
     "name": "stderr",
     "output_type": "stream",
     "text": [
      "/tmp/ipykernel_2333/2191086222.py:10: DeprecationWarning: find_element_by_tag_name is deprecated. Please use find_element(by=By.TAG_NAME, value=name) instead\n",
      "  driver.find_element_by_tag_name('h3').click()\n",
      "/tmp/ipykernel_2333/2191086222.py:13: DeprecationWarning: find_elements_by_class_name is deprecated. Please use find_elements(by=By.CLASS_NAME, value=name) instead\n",
      "  print(driver.find_elements_by_class_name('org-top-card-summary-info-list__info-item')[4].text)\n"
     ]
    },
    {
     "name": "stdout",
     "output_type": "stream",
     "text": [
      "https://www.google.co.uk/search?q=Aurizon%20linkedin\n",
      "45 712 abonnés\n",
      "https://www.linkedin.com/company/aurizon/?originalSubdomain=au\n"
     ]
    },
    {
     "name": "stderr",
     "output_type": "stream",
     "text": [
      "/tmp/ipykernel_2333/2191086222.py:16: DeprecationWarning: find_elements_by_class_name is deprecated. Please use find_elements(by=By.CLASS_NAME, value=name) instead\n",
      "  print(driver.find_elements_by_class_name('org-top-card-summary-info-list__info-item')[-1].text)\n",
      "/tmp/ipykernel_2333/2191086222.py:17: DeprecationWarning: find_element_by_tag_name is deprecated. Please use find_element(by=By.TAG_NAME, value=name) instead\n",
      "  driver.find_element_by_tag_name('h3').click()\n",
      "/tmp/ipykernel_2333/2191086222.py:18: DeprecationWarning: find_elements_by_class_name is deprecated. Please use find_elements(by=By.CLASS_NAME, value=name) instead\n",
      "  nb_followers_linkedin = int(''.join(driver.find_elements_by_class_name('org-top-card-summary-info-list__info-item')[-1].text.replace(\" abonnés\",\"\").split()))\n"
     ]
    }
   ],
   "source": [
    "company = \"Aurizon\"\n",
    "query = company + \" linkedin\"\n",
    "driver.get(\"https://www.google.co.uk/search?q=\" + query)\n",
    "try:\n",
    "    driver.find_element(By.XPATH,'//*[@id=\"L2AGLb\"]/div').click()\n",
    "except:\n",
    "    pass\n",
    "soup = BeautifulSoup(driver.page_source)\n",
    "try:\n",
    "    driver.find_element_by_tag_name('h3').click()\n",
    "    try:\n",
    "        print(driver.current_url)\n",
    "        print(driver.find_elements_by_class_name('org-top-card-summary-info-list__info-item')[4].text)\n",
    "        nb_followers_linkedin = int(''.join(driver.find_elements_by_class_name('org-top-card-summary-info-list__info-item')[-1].text.replace(\" abonnés\",\"\").split()))\n",
    "    except:\n",
    "        print(driver.find_elements_by_class_name('org-top-card-summary-info-list__info-item')[-1].text)\n",
    "        driver.find_element_by_tag_name('h3').click()\n",
    "        nb_followers_linkedin = int(''.join(driver.find_elements_by_class_name('org-top-card-summary-info-list__info-item')[-1].text.replace(\" abonnés\",\"\").split()))\n",
    "        print(driver.current_url)\n",
    "\n",
    "\n",
    "except:\n",
    "    pass"
   ]
  },
  {
   "cell_type": "code",
   "execution_count": 113,
   "id": "89b49257-338d-4d0b-8338-d8aa4129fb82",
   "metadata": {},
   "outputs": [
    {
     "ename": "IndexError",
     "evalue": "list index out of range",
     "output_type": "error",
     "traceback": [
      "\u001b[0;31m---------------------------------------------------------------------------\u001b[0m",
      "\u001b[0;31mIndexError\u001b[0m                                Traceback (most recent call last)",
      "\u001b[0;32m/tmp/ipykernel_809/2965142837.py\u001b[0m in \u001b[0;36m<module>\u001b[0;34m\u001b[0m\n\u001b[1;32m      1\u001b[0m \u001b[0msoup\u001b[0m \u001b[0;34m=\u001b[0m \u001b[0mBeautifulSoup\u001b[0m\u001b[0;34m(\u001b[0m\u001b[0mdriver\u001b[0m\u001b[0;34m.\u001b[0m\u001b[0mpage_source\u001b[0m\u001b[0;34m,\u001b[0m\u001b[0;34m\"html.parser\"\u001b[0m\u001b[0;34m)\u001b[0m\u001b[0;34m\u001b[0m\u001b[0;34m\u001b[0m\u001b[0m\n\u001b[0;32m----> 2\u001b[0;31m \u001b[0msoup\u001b[0m\u001b[0;34m.\u001b[0m\u001b[0mfind_all\u001b[0m\u001b[0;34m(\u001b[0m\u001b[0mclass_\u001b[0m\u001b[0;34m=\u001b[0m\u001b[0;34m\"about-us__description\"\u001b[0m\u001b[0;34m)\u001b[0m\u001b[0;34m[\u001b[0m\u001b[0;36m0\u001b[0m\u001b[0;34m]\u001b[0m\u001b[0;34m.\u001b[0m\u001b[0mtext\u001b[0m\u001b[0;34m\u001b[0m\u001b[0;34m\u001b[0m\u001b[0m\n\u001b[0m",
      "\u001b[0;31mIndexError\u001b[0m: list index out of range"
     ]
    }
   ],
   "source": [
    "# About us section of linkedin to get description\n",
    "soup = BeautifulSoup(driver.page_source,\"html.parser\")\n",
    "soup.find_all(class_=\"about-us__description\")[0].text"
   ]
  },
  {
   "cell_type": "code",
   "execution_count": null,
   "id": "4232fe26-465c-49f7-950c-b89b0618c6b5",
   "metadata": {},
   "outputs": [],
   "source": []
  },
  {
   "cell_type": "code",
   "execution_count": null,
   "id": "40f85379-75f8-42ed-8633-d59084ec1c10",
   "metadata": {},
   "outputs": [],
   "source": []
  }
 ],
 "metadata": {
  "kernelspec": {
   "display_name": "Python 3 (ipykernel)",
   "language": "python",
   "name": "python3"
  },
  "language_info": {
   "codemirror_mode": {
    "name": "ipython",
    "version": 3
   },
   "file_extension": ".py",
   "mimetype": "text/x-python",
   "name": "python",
   "nbconvert_exporter": "python",
   "pygments_lexer": "ipython3",
   "version": "3.8.10"
  }
 },
 "nbformat": 4,
 "nbformat_minor": 5
}
